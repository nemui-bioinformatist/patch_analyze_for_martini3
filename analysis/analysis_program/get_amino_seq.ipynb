{
 "cells": [
  {
   "cell_type": "code",
   "execution_count": 22,
   "id": "c62c302c-38a3-4d45-ad8a-7d67f8187bcf",
   "metadata": {},
   "outputs": [],
   "source": [
    "from Bio.PDB import *\n",
    "\n",
    "aa3_to_aa1 = {\n",
    "    'ALA':'A', 'CYS':'C', 'ASP':'D', 'GLU':'E',\n",
    "    'PHE':'F', 'GLY':'G', 'HIS':'H', 'ILE':'I',\n",
    "    'LYS':'K', 'LEU':'L', 'MET':'M', 'ASN':'N',\n",
    "    'PRO':'P', 'GLN':'Q', 'ARG':'R', 'SER':'S',\n",
    "    'THR':'T', 'VAL':'V', 'TRP':'W', 'TYR':'Y'\n",
    "}\n",
    "\n",
    "def print_amino_seq(name):\n",
    "    pdb_parser = PDBParser()  # PDBファイルが.pdb形式の場合は、PDBParser()を使用\n",
    "    structure = pdb_parser.get_structure(name, '../pdb_files/'+ name + '.pdb')\n",
    "\n",
    "    for model in structure:\n",
    "        for chain in model:\n",
    "            #print(chain.get_id())\n",
    "            for residue in chain:\n",
    "                print(aa3_to_aa1[residue.get_resname()], end='')\n",
    "            print('end')"
   ]
  },
  {
   "cell_type": "code",
   "execution_count": 23,
   "id": "8f1f9f24-fafb-4f17-89c1-6bb31c21d722",
   "metadata": {},
   "outputs": [
    {
     "name": "stdout",
     "output_type": "stream",
     "text": [
      "APDFCLEPPYTGPCAAAIIAYFYNAAAGLCQTFVYGGCAAAANNFASAEDCMATCGend\n",
      "DPAFCLAPPYTGPCDAEIIEYFYNADAGLCQTFVYGGCDAEENNFDSAAACMETCGend\n",
      "RPAFCLAPPYTGPCKARIIRYFYNAKAGLCQTFVYGGCRAKRNNFKSAAACMRTCGend\n",
      "APRFCLKPPYTGPCAAAIIAYFYNAAAGLCQTFVYGGCAAAANNFASARKCMATCGend\n"
     ]
    }
   ],
   "source": [
    "for name in ['minus1','minus2','plus1','plus2']:\n",
    "    print_amino_seq(name)"
   ]
  },
  {
   "cell_type": "code",
   "execution_count": 24,
   "id": "2ded7a32-6e42-4a09-b71a-1f0b27611ff4",
   "metadata": {
    "scrolled": true
   },
   "outputs": [
    {
     "name": "stdout",
     "output_type": "stream",
     "text": [
      "AAAAAAAAAAAAAAAAAAAAAAAAAAAAAAAAAAAAAAAAAAAAAAAAAAAAAAAAend\n",
      "AARAAAKAAAAAAAAAAAAAAAAAAAAAAAAAAAAAAAAAAAAAAAAARKAAAAAAend\n",
      "RPDFCLEDPYTGPCKADIIRYFYNAKAGLCQTFVYGGCDAKANNFKSAEDCMRTCGend\n",
      "RPDFCLERPYTGPCKAAIIRYFYNAKAGLCQTFVYGGCDAKDNNFKSAEDCMDTCGend\n",
      "APDFCLEDPYTGPCKARIIRYFYNAKAGLCQTFVYGGCDAKRNNFKSAEDCMDTCGend\n",
      "RPDFCLEPPYTGPCKAAIIAYFYNAAAGLCQTFVYGGCAAKANNFASAEDCMRTCGend\n",
      "APDFCLEPPYTGPCAAAIIAYFYNAKAGLCQTFVYGGCRAKRNNFASAEDCMATCGend\n",
      "RPDFCLEPPYTGPCKAAIIRYFYNAAAGLCQTFVYGGCAAKANNFASAEDCMATCGend\n"
     ]
    }
   ],
   "source": [
    "for name in ['plus2_ala_0','plus2_ala_A','sample4','sample5', 'sample6', 'sample7', 'sample8', 'sample9']:\n",
    "    print_amino_seq(name)"
   ]
  },
  {
   "cell_type": "code",
   "execution_count": null,
   "id": "fa3fe255-4c86-4c8b-a87c-3f3f9dbb0c7c",
   "metadata": {},
   "outputs": [],
   "source": []
  }
 ],
 "metadata": {
  "kernelspec": {
   "display_name": "Python 3 (ipykernel)",
   "language": "python",
   "name": "python3"
  },
  "language_info": {
   "codemirror_mode": {
    "name": "ipython",
    "version": 3
   },
   "file_extension": ".py",
   "mimetype": "text/x-python",
   "name": "python",
   "nbconvert_exporter": "python",
   "pygments_lexer": "ipython3",
   "version": "3.10.12"
  }
 },
 "nbformat": 4,
 "nbformat_minor": 5
}
