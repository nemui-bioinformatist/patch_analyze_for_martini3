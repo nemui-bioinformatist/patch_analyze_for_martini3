{
 "cells": [
  {
   "cell_type": "code",
   "execution_count": 2,
   "id": "ffac9bb8-ec1d-439a-ba2c-e4d170736130",
   "metadata": {},
   "outputs": [
    {
     "name": "stdout",
     "output_type": "stream",
     "text": [
      "Defaulting to user installation because normal site-packages is not writeable\n",
      "Requirement already satisfied: biopandas in /home/rnomura/.local/lib/python3.10/site-packages (0.4.1)\n",
      "Requirement already satisfied: numpy>=1.16.2 in /home/rnomura/.local/lib/python3.10/site-packages (from biopandas) (1.26.4)\n",
      "Requirement already satisfied: pandas>=0.24.2 in /home/rnomura/.local/lib/python3.10/site-packages (from biopandas) (2.2.2)\n",
      "Requirement already satisfied: setuptools in /home/rnomura/.local/lib/python3.10/site-packages (from biopandas) (69.5.1)\n",
      "Requirement already satisfied: python-dateutil>=2.8.2 in /home/rnomura/.local/lib/python3.10/site-packages (from pandas>=0.24.2->biopandas) (2.9.0.post0)\n",
      "Requirement already satisfied: pytz>=2020.1 in /home/rnomura/.local/lib/python3.10/site-packages (from pandas>=0.24.2->biopandas) (2024.1)\n",
      "Requirement already satisfied: tzdata>=2022.7 in /home/rnomura/.local/lib/python3.10/site-packages (from pandas>=0.24.2->biopandas) (2024.1)\n",
      "Requirement already satisfied: six>=1.5 in /usr/lib/python3/dist-packages (from python-dateutil>=2.8.2->pandas>=0.24.2->biopandas) (1.16.0)\n",
      "\n",
      "\u001b[1m[\u001b[0m\u001b[34;49mnotice\u001b[0m\u001b[1;39;49m]\u001b[0m\u001b[39;49m A new release of pip is available: \u001b[0m\u001b[31;49m24.0\u001b[0m\u001b[39;49m -> \u001b[0m\u001b[32;49m24.1.2\u001b[0m\n",
      "\u001b[1m[\u001b[0m\u001b[34;49mnotice\u001b[0m\u001b[1;39;49m]\u001b[0m\u001b[39;49m To update, run: \u001b[0m\u001b[32;49m/usr/bin/python3 -m pip install --upgrade pip\u001b[0m\n",
      "Defaulting to user installation because normal site-packages is not writeable\n",
      "Requirement already satisfied: scipy in /home/rnomura/.local/lib/python3.10/site-packages (1.14.0)\n",
      "Requirement already satisfied: numpy<2.3,>=1.23.5 in /home/rnomura/.local/lib/python3.10/site-packages (from scipy) (1.26.4)\n",
      "\n",
      "\u001b[1m[\u001b[0m\u001b[34;49mnotice\u001b[0m\u001b[1;39;49m]\u001b[0m\u001b[39;49m A new release of pip is available: \u001b[0m\u001b[31;49m24.0\u001b[0m\u001b[39;49m -> \u001b[0m\u001b[32;49m24.1.2\u001b[0m\n",
      "\u001b[1m[\u001b[0m\u001b[34;49mnotice\u001b[0m\u001b[1;39;49m]\u001b[0m\u001b[39;49m To update, run: \u001b[0m\u001b[32;49m/usr/bin/python3 -m pip install --upgrade pip\u001b[0m\n",
      "Defaulting to user installation because normal site-packages is not writeable\n",
      "Requirement already satisfied: scikit-learn in /home/rnomura/.local/lib/python3.10/site-packages (1.5.0)\n",
      "Requirement already satisfied: numpy>=1.19.5 in /home/rnomura/.local/lib/python3.10/site-packages (from scikit-learn) (1.26.4)\n",
      "Requirement already satisfied: scipy>=1.6.0 in /home/rnomura/.local/lib/python3.10/site-packages (from scikit-learn) (1.14.0)\n",
      "Requirement already satisfied: joblib>=1.2.0 in /home/rnomura/.local/lib/python3.10/site-packages (from scikit-learn) (1.4.2)\n",
      "Requirement already satisfied: threadpoolctl>=3.1.0 in /home/rnomura/.local/lib/python3.10/site-packages (from scikit-learn) (3.5.0)\n",
      "\n",
      "\u001b[1m[\u001b[0m\u001b[34;49mnotice\u001b[0m\u001b[1;39;49m]\u001b[0m\u001b[39;49m A new release of pip is available: \u001b[0m\u001b[31;49m24.0\u001b[0m\u001b[39;49m -> \u001b[0m\u001b[32;49m24.1.2\u001b[0m\n",
      "\u001b[1m[\u001b[0m\u001b[34;49mnotice\u001b[0m\u001b[1;39;49m]\u001b[0m\u001b[39;49m To update, run: \u001b[0m\u001b[32;49m/usr/bin/python3 -m pip install --upgrade pip\u001b[0m\n",
      "Defaulting to user installation because normal site-packages is not writeable\n",
      "Requirement already satisfied: biopython in /home/rnomura/.local/lib/python3.10/site-packages (1.84)\n",
      "Requirement already satisfied: numpy in /home/rnomura/.local/lib/python3.10/site-packages (from biopython) (1.26.4)\n",
      "\n",
      "\u001b[1m[\u001b[0m\u001b[34;49mnotice\u001b[0m\u001b[1;39;49m]\u001b[0m\u001b[39;49m A new release of pip is available: \u001b[0m\u001b[31;49m24.0\u001b[0m\u001b[39;49m -> \u001b[0m\u001b[32;49m24.1.2\u001b[0m\n",
      "\u001b[1m[\u001b[0m\u001b[34;49mnotice\u001b[0m\u001b[1;39;49m]\u001b[0m\u001b[39;49m To update, run: \u001b[0m\u001b[32;49m/usr/bin/python3 -m pip install --upgrade pip\u001b[0m\n"
     ]
    }
   ],
   "source": [
    "!pip install 'biopandas'\n",
    "!pip install scipy\n",
    "!pip install scikit-learn\n",
    "!pip install biopython"
   ]
  },
  {
   "cell_type": "code",
   "execution_count": 3,
   "id": "aa5cc0db-104a-4313-8ae4-87ce8d962855",
   "metadata": {},
   "outputs": [],
   "source": [
    "import argparse\n",
    "import collections\n",
    "import numpy as np\n",
    "import matplotlib.pyplot as plt\n",
    "from scipy.spatial import ConvexHull\n",
    "import subprocess\n",
    "import time\n",
    "from biopandas.pdb import PandasPdb\n",
    "from sklearn.neighbors import KDTree\n",
    "from collections import defaultdict\n",
    "import csv\n",
    "import pandas as pd"
   ]
  },
  {
   "cell_type": "code",
   "execution_count": 4,
   "id": "ca860136-afe2-4f4d-8baa-82b77f46178b",
   "metadata": {},
   "outputs": [],
   "source": [
    "data_path = \"/home/rnomura/research/analysis/analysis/pdb_files/\"\n",
    "itp_path = \"/home/rnomura/research/analysis/analysis/itp_files/\"\n",
    "research_path = \"/home/rnomura/research/analysis/analysis/analysis_program/csv/\"\n",
    "pic_path = \"/home/rnomura/research/analysis/analysis/analysis_program/pic_stock/\""
   ]
  },
  {
   "cell_type": "code",
   "execution_count": 10,
   "id": "c2ba37de-8ac6-4734-be85-ac9065916f82",
   "metadata": {},
   "outputs": [
    {
     "name": "stdout",
     "output_type": "stream",
     "text": [
      "24.886102372778936\n"
     ]
    }
   ],
   "source": [
    "from Bio.PDB import PDBParser\n",
    "from Bio.PDB.DSSP import DSSP\n",
    "p = PDBParser()\n",
    "structure = p.get_structure(\"minus1\", data_path + \"minus1.pdb\")\n",
    "model = structure[0]\n",
    "import warnings\n",
    "\n",
    "# 警告を無視する\n",
    "with warnings.catch_warnings():\n",
    "    warnings.simplefilter(\"ignore\")\n",
    "\n",
    "    # ここにDSSPのコードを書く\n",
    "    dssp = DSSP(model, data_path + \"minus1.pdb\", dssp='mkdssp')\n",
    "    total_asa = sum(residue[3] for residue in dssp)\n",
    "    print(total_asa)#rsaの和でしかない。"
   ]
  },
  {
   "cell_type": "code",
   "execution_count": 15,
   "id": "05ae262d-5d1d-4aeb-87c0-349d6caa8aaf",
   "metadata": {},
   "outputs": [],
   "source": [
    "dic_max_asa = {\"A\":129, \"R\":274, \"N\":195, \"D\":193, \"C\":167, \"E\":223, \"Q\":225, \"G\":104, \"H\":224, \"I\":197, \"L\":201, \"K\":236, \"M\":224, \"F\":240, \"P\":159, \"S\":155, \"T\":172, \"W\":285, \"Y\":263, \"V\":174}"
   ]
  },
  {
   "cell_type": "code",
   "execution_count": 16,
   "id": "33418be7-4d9d-4969-9ffb-09bb8627c5a3",
   "metadata": {},
   "outputs": [],
   "source": [
    "amino_acid = []\n",
    "rsa        = []\n",
    "for dssp_data in dssp:\n",
    "    amino_acid.append(dssp_data[1])\n",
    "    rsa.append(dssp_data[3])"
   ]
  },
  {
   "cell_type": "code",
   "execution_count": 17,
   "id": "c5c47bfe-bedd-4fd8-bda7-311cf85e5173",
   "metadata": {},
   "outputs": [
    {
     "data": {
      "text/plain": [
       "4066.426039636177"
      ]
     },
     "execution_count": 17,
     "metadata": {},
     "output_type": "execute_result"
    }
   ],
   "source": [
    "asa = 0\n",
    "for amino, rsa_data in zip(amino_acid, rsa):\n",
    "    asa += dic_max_asa[amino] * float(rsa_data)\n",
    "asa"
   ]
  },
  {
   "cell_type": "markdown",
   "id": "5187a1f4-57e3-482b-a36c-78aed1da34b7",
   "metadata": {},
   "source": [
    "# ここから自動化する！"
   ]
  },
  {
   "cell_type": "code",
   "execution_count": 19,
   "id": "43d66c11-f825-4a1c-a8a3-cd22dbd3b582",
   "metadata": {},
   "outputs": [],
   "source": [
    "import warnings\n",
    "from Bio.PDB import PDBParser\n",
    "from Bio.PDB.DSSP import DSSP"
   ]
  },
  {
   "cell_type": "code",
   "execution_count": 12,
   "id": "dd094795-0f1a-43de-817a-762726352695",
   "metadata": {},
   "outputs": [],
   "source": [
    "dic_HI = {\"minus1\":[2070], \"minus2\":[1395, 95, 54, 48, 46], \"plus1\":[1234, 67, 13], \"plus2\":[2065], \"plus2_ala_A\":[3058], \"plus2_ala_0\":[3391], \"sample4\":[1061, 76], \"sample5\":[1156, 93, 65, 47, 41], \"sample6\":[1168, 78, 42, 16, 9], \"sample7\":[1607, 48], \"sample8\":[1573, 98, 23, 14], \"sample9\":[1616, 49, 16]}"
   ]
  },
  {
   "cell_type": "code",
   "execution_count": 13,
   "id": "cc151551-47cc-412c-97a1-4600511d31f2",
   "metadata": {},
   "outputs": [],
   "source": [
    "HI_amino = [\"A\", \"C\", \"F\", \"I\", \"L\", \"M\", \"V\", \"W\", \"Y\"]"
   ]
  },
  {
   "cell_type": "code",
   "execution_count": 20,
   "id": "31460627-f451-447f-bd0b-594b00459557",
   "metadata": {},
   "outputs": [],
   "source": [
    "dic_max_asa = {\"A\":129, \"R\":274, \"N\":195, \"D\":193, \"C\":167, \"E\":223, \"Q\":225, \"G\":104, \"H\":224, \"I\":197, \"L\":201, \"K\":236, \"M\":224, \"F\":240, \"P\":159, \"S\":155, \"T\":172, \"W\":285, \"Y\":263, \"V\":174}"
   ]
  },
  {
   "cell_type": "code",
   "execution_count": 21,
   "id": "9d4bb1bd-3245-4ab7-b7d0-144c3defb5ce",
   "metadata": {},
   "outputs": [
    {
     "name": "stdout",
     "output_type": "stream",
     "text": [
      "[2480.609552374245, 1799.5178793553664, 1573.0340708075648, 2482.2289720895574, 3647.2924528301883, 4046.462264150943, 1373.0210625998016, 1472.3473740538195, 1547.2936763748132, 1942.9616016507553, 2004.2622983707668, 1954.3413784341597]\n",
      "[0.6100220508611993, 0.4181303430360963, 0.3618384050593505, 0.574678381333784, 0.8172722662206875, 1.0, 0.3191861475232068, 0.3329823189801138, 0.3473440364092385, 0.46835101689148034, 0.4744255637037935, 0.4795725207038548]\n",
      "[2070, 1395, 1234, 2065, 3058, 3391, 1061, 1156, 1168, 1607, 1573, 1616]\n"
     ]
    }
   ],
   "source": [
    "THSA = []\n",
    "RHSA = []\n",
    "LHP = []\n",
    "rank_num = []\n",
    "\n",
    "for keyword in dic_HI.keys():\n",
    "    p = PDBParser()\n",
    "    structure = p.get_structure(keyword, data_path + keyword + \".pdb\")\n",
    "    model = structure[0]\n",
    "    # 警告を無視する\n",
    "    with warnings.catch_warnings():\n",
    "        warnings.simplefilter(\"ignore\")\n",
    "    # ここにDSSPのコードを書く\n",
    "    dssp = DSSP(model, data_path + keyword + \".pdb\", dssp='mkdssp')\n",
    "    HI_amino_acid = []\n",
    "    HI_rsa        = []\n",
    "    amino_acid = []\n",
    "    rsa        = []\n",
    "    for dssp_data in dssp:\n",
    "        if dssp_data[1] in HI_amino:\n",
    "            HI_amino_acid.append(dssp_data[1])\n",
    "            HI_rsa.append(dssp_data[3])\n",
    "        amino_acid.append(dssp_data[1])\n",
    "        rsa.append(dssp_data[3])\n",
    "    HI_asa = 0\n",
    "    for amino, rsa_data in zip(HI_amino_acid, HI_rsa):\n",
    "        HI_asa += dic_max_asa[amino] * float(rsa_data)\n",
    "    asa = 0\n",
    "    for amino, rsa_data in zip(amino_acid, rsa):\n",
    "        asa += dic_max_asa[amino] * float(rsa_data) \n",
    "    THSA.append(HI_asa)\n",
    "    RHSA.append(HI_asa / asa)\n",
    "    LHP.append(dic_HI[keyword][0])\n",
    "    rank_num.append(len(dic_HI[keyword]))\n",
    "print(THSA)\n",
    "print(RHSA)\n",
    "print(LHP)"
   ]
  },
  {
   "cell_type": "code",
   "execution_count": null,
   "id": "aa7646ed-38d3-492f-a95a-28ddc2fc500a",
   "metadata": {},
   "outputs": [],
   "source": []
  }
 ],
 "metadata": {
  "kernelspec": {
   "display_name": "Python 3 (ipykernel)",
   "language": "python",
   "name": "python3"
  },
  "language_info": {
   "codemirror_mode": {
    "name": "ipython",
    "version": 3
   },
   "file_extension": ".py",
   "mimetype": "text/x-python",
   "name": "python",
   "nbconvert_exporter": "python",
   "pygments_lexer": "ipython3",
   "version": "3.10.12"
  }
 },
 "nbformat": 4,
 "nbformat_minor": 5
}
