{
 "cells": [
  {
   "cell_type": "code",
   "execution_count": 1,
   "id": "dd0ef51e-8114-4990-87f7-d5b04a022597",
   "metadata": {},
   "outputs": [
    {
     "name": "stdout",
     "output_type": "stream",
     "text": [
      "Defaulting to user installation because normal site-packages is not writeable\n",
      "Requirement already satisfied: biopandas in /home/rnomura/.local/lib/python3.10/site-packages (0.4.1)\n",
      "Requirement already satisfied: numpy>=1.16.2 in /home/rnomura/.local/lib/python3.10/site-packages (from biopandas) (1.26.4)\n",
      "Requirement already satisfied: pandas>=0.24.2 in /home/rnomura/.local/lib/python3.10/site-packages (from biopandas) (2.2.2)\n",
      "Requirement already satisfied: setuptools in /home/rnomura/.local/lib/python3.10/site-packages (from biopandas) (69.5.1)\n",
      "Requirement already satisfied: python-dateutil>=2.8.2 in /home/rnomura/.local/lib/python3.10/site-packages (from pandas>=0.24.2->biopandas) (2.9.0.post0)\n",
      "Requirement already satisfied: pytz>=2020.1 in /home/rnomura/.local/lib/python3.10/site-packages (from pandas>=0.24.2->biopandas) (2024.1)\n",
      "Requirement already satisfied: tzdata>=2022.7 in /home/rnomura/.local/lib/python3.10/site-packages (from pandas>=0.24.2->biopandas) (2024.1)\n",
      "Requirement already satisfied: six>=1.5 in /usr/lib/python3/dist-packages (from python-dateutil>=2.8.2->pandas>=0.24.2->biopandas) (1.16.0)\n",
      "\n",
      "\u001b[1m[\u001b[0m\u001b[34;49mnotice\u001b[0m\u001b[1;39;49m]\u001b[0m\u001b[39;49m A new release of pip is available: \u001b[0m\u001b[31;49m24.0\u001b[0m\u001b[39;49m -> \u001b[0m\u001b[32;49m24.1.1\u001b[0m\n",
      "\u001b[1m[\u001b[0m\u001b[34;49mnotice\u001b[0m\u001b[1;39;49m]\u001b[0m\u001b[39;49m To update, run: \u001b[0m\u001b[32;49m/usr/bin/python3 -m pip install --upgrade pip\u001b[0m\n",
      "Defaulting to user installation because normal site-packages is not writeable\n",
      "Requirement already satisfied: scipy in /home/rnomura/.local/lib/python3.10/site-packages (1.14.0)\n",
      "Requirement already satisfied: numpy<2.3,>=1.23.5 in /home/rnomura/.local/lib/python3.10/site-packages (from scipy) (1.26.4)\n",
      "\n",
      "\u001b[1m[\u001b[0m\u001b[34;49mnotice\u001b[0m\u001b[1;39;49m]\u001b[0m\u001b[39;49m A new release of pip is available: \u001b[0m\u001b[31;49m24.0\u001b[0m\u001b[39;49m -> \u001b[0m\u001b[32;49m24.1.1\u001b[0m\n",
      "\u001b[1m[\u001b[0m\u001b[34;49mnotice\u001b[0m\u001b[1;39;49m]\u001b[0m\u001b[39;49m To update, run: \u001b[0m\u001b[32;49m/usr/bin/python3 -m pip install --upgrade pip\u001b[0m\n",
      "Defaulting to user installation because normal site-packages is not writeable\n",
      "Requirement already satisfied: scikit-learn in /home/rnomura/.local/lib/python3.10/site-packages (1.5.0)\n",
      "Requirement already satisfied: numpy>=1.19.5 in /home/rnomura/.local/lib/python3.10/site-packages (from scikit-learn) (1.26.4)\n",
      "Requirement already satisfied: scipy>=1.6.0 in /home/rnomura/.local/lib/python3.10/site-packages (from scikit-learn) (1.14.0)\n",
      "Requirement already satisfied: joblib>=1.2.0 in /home/rnomura/.local/lib/python3.10/site-packages (from scikit-learn) (1.4.2)\n",
      "Requirement already satisfied: threadpoolctl>=3.1.0 in /home/rnomura/.local/lib/python3.10/site-packages (from scikit-learn) (3.5.0)\n",
      "\n",
      "\u001b[1m[\u001b[0m\u001b[34;49mnotice\u001b[0m\u001b[1;39;49m]\u001b[0m\u001b[39;49m A new release of pip is available: \u001b[0m\u001b[31;49m24.0\u001b[0m\u001b[39;49m -> \u001b[0m\u001b[32;49m24.1.1\u001b[0m\n",
      "\u001b[1m[\u001b[0m\u001b[34;49mnotice\u001b[0m\u001b[1;39;49m]\u001b[0m\u001b[39;49m To update, run: \u001b[0m\u001b[32;49m/usr/bin/python3 -m pip install --upgrade pip\u001b[0m\n"
     ]
    }
   ],
   "source": [
    "!pip install 'biopandas'\n",
    "!pip install scipy\n",
    "!pip install scikit-learn"
   ]
  },
  {
   "cell_type": "code",
   "execution_count": 2,
   "id": "b5c3ea8e-f615-4e01-98a7-08fb498f4d39",
   "metadata": {},
   "outputs": [],
   "source": [
    "import argparse\n",
    "import collections\n",
    "import numpy as np\n",
    "import matplotlib.pyplot as plt\n",
    "from scipy.spatial import ConvexHull\n",
    "import subprocess\n",
    "import time\n",
    "from biopandas.pdb import PandasPdb\n",
    "from sklearn.neighbors import KDTree\n",
    "from collections import defaultdict\n",
    "import csv\n",
    "import pandas as pd"
   ]
  },
  {
   "cell_type": "code",
   "execution_count": 3,
   "id": "1ed458b3-d4b2-4f3f-82ad-bb7ae598fb2e",
   "metadata": {},
   "outputs": [
    {
     "name": "stdout",
     "output_type": "stream",
     "text": [
      "/home/rnomura/research/analysis/analysis/analysis_program\n"
     ]
    }
   ],
   "source": [
    "!pwd"
   ]
  },
  {
   "cell_type": "code",
   "execution_count": 4,
   "id": "e2dd19c7-aa49-4b2e-a506-1742670b03f6",
   "metadata": {},
   "outputs": [],
   "source": [
    "data_path = \"/home/rnomura/research/analysis/analysis/pdb_files/\"\n",
    "itp_path = \"/home/rnomura/research/analysis/analysis/itp_files/\"\n",
    "research_path = \"/home/rnomura/research/analysis/analysis/analysis_program/csv/\"\n",
    "pic_path = \"/home/rnomura/research/analysis/analysis/analysis_program/pic_stock/\""
   ]
  },
  {
   "cell_type": "code",
   "execution_count": 8,
   "id": "758e7fc9-d6c0-499b-b6d3-d3f30490d5d8",
   "metadata": {},
   "outputs": [],
   "source": [
    "class dipole_calc:\n",
    "  def __init__(self,keyword,flag):\n",
    "    self.memo_charge=[]\n",
    "    self.keyword = keyword\n",
    "    self.flag = flag\n",
    "    self.zahyo_r = []\n",
    "  def charge(self):  \n",
    "    memo_lines = []\n",
    "    with open(itp_path + self.keyword + '.itp','r') as f:\n",
    "      flag = 0\n",
    "      for line in f:    \n",
    "        if '[ atoms ]' in line:\n",
    "          flag = 1\n",
    "        elif '[ position_restraints ]' in line:\n",
    "          break\n",
    "        elif flag:\n",
    "          memo_lines.append(line.rstrip('\\n'))\n",
    "    #memo_linesの余計なものを除去\n",
    "    last_index = len(memo_lines) - 2\n",
    "    flag = 0\n",
    "    for index, line in enumerate(memo_lines):\n",
    "        amino = line[12:15]\n",
    "        residue_num = line[10:12]\n",
    "        if (residue_num == \"1\" and (amino == \"GLU\" or amino == \"ASP\")):#N末端にGLUとASPがあるときは非電荷\n",
    "            self.memo_charge.append(0)\n",
    "        if (residue_num == \"56\" and (amino == \"GLU\" or amino == \"ASP\")):#C末端にLYSとARGがあるときは非電荷\n",
    "            self.memo_charge.append(0)\n",
    "        if line:\n",
    "            self.memo_charge.append(float(line[-5:-1]))\n",
    "    return self.memo_charge\n",
    "  def zahyo_converter(self):\n",
    "    pdb = PandasPdb().read_pdb(data_path+self.keyword+'_cg.pdb')\n",
    "    zahyo = pdb.df['ATOM'][['x_coord','y_coord','z_coord']].values\n",
    "    center_point = zahyo.mean(axis=0)\n",
    "    self.zahyo_r = zahyo - center_point#座標中心を原点にし、座標変換\n",
    "    return self.zahyo_r\n",
    "  def calc(self):\n",
    "    if self.flag == 0:\n",
    "      vector = [0,0,0]\n",
    "      for a,b in zip(self.zahyo_converter(),self.charge()):\n",
    "        r = a\n",
    "        q = b\n",
    "        vector += r*q\n",
    "      dipole = 4.803*vector\n",
    "      scolar = (dipole[0]**2 + dipole[1]**2 + dipole[2]**2)\n",
    "      scolar = scolar **0.5\n",
    "      return scolar#dipoleの大きさ\n",
    "    else:\n",
    "      quadropole_x = 0\n",
    "      quadropole_y = 0\n",
    "      quadropole_z = 0\n",
    "      for a,b in zip(self.zahyo_converter(),self.charge()):\n",
    "        r= (a[0]**2+a[1]**2+a[2]**2)**1/2\n",
    "        q = b\n",
    "        quadropole_x += 0.5*q*(3*a[0]**2-r**2)\n",
    "        quadropole_y += 0.5*q*(3*a[1]**2-r**2)\n",
    "        quadropole_z += 0.5*q*(3*a[2]**2-r**2)\n",
    "        quadropole_sum = quadropole_x + quadropole_y + quadropole_z\n",
    "      if (quadropole_sum < 0):\n",
    "        quadropole_sum *= -1\n",
    "      return (quadropole_sum)**0.5#quadropoleの大きさ?\n",
    "  def __del__(self):#デストラクターでメモリ解放\n",
    "    pass"
   ]
  },
  {
   "cell_type": "code",
   "execution_count": 11,
   "id": "3707042b-f96a-41fd-b681-73abe119421b",
   "metadata": {},
   "outputs": [],
   "source": [
    "#print(dipole_calc(\"minus1\",0).calc())"
   ]
  },
  {
   "cell_type": "code",
   "execution_count": 54,
   "id": "031d31ba-d19f-47a1-878a-aaff8a4e8a0e",
   "metadata": {},
   "outputs": [
    {
     "name": "stdout",
     "output_type": "stream",
     "text": [
      "113.46597151491669\n",
      "112.97898483533938\n",
      "173.95496976759526\n",
      "135.0610931974097\n",
      "0.0\n",
      "237.48409623409984\n",
      "27.828583657921953\n",
      "307.50373447082757\n",
      "264.7315289164652\n",
      "129.42306520288554\n",
      "231.03355722257567\n",
      "212.28275584939578\n"
     ]
    }
   ],
   "source": [
    "#dipole\n",
    "for name in [\"minus1\",\"minus2\",\"plus1\",\"plus2\",\"plus2_ala_0\",\"plus2_ala_A\",\"sample4\",\"sample5\", \"sample6\", \"sample7\", \"sample8\", \"sample9\"]:\n",
    "    print(dipole_calc(name,0).calc())"
   ]
  },
  {
   "cell_type": "code",
   "execution_count": 10,
   "id": "62a2c3c7-bb69-4783-9426-d215267f5e9a",
   "metadata": {},
   "outputs": [
    {
     "name": "stdout",
     "output_type": "stream",
     "text": [
      "152.964687107665\n",
      "374.06971810004967\n",
      "432.5019626126414\n",
      "283.24033493623114\n",
      "0.0\n",
      "103.04979149367932\n",
      "229.161950521503\n",
      "239.9143291731847\n",
      "304.1618752256726\n",
      "283.54983581443287\n",
      "164.14659994065923\n",
      "268.5497403931765\n"
     ]
    }
   ],
   "source": [
    "#quadropole->ここでエラーが出ている理由が分からない。\n",
    "for name in [\"minus1\",\"minus2\",\"plus1\",\"plus2\",\"plus2_ala_0\",\"plus2_ala_A\",\"sample4\",\"sample5\", \"sample6\", \"sample7\", \"sample8\", \"sample9\"]:\n",
    "    print(dipole_calc(name,1).calc())"
   ]
  },
  {
   "cell_type": "code",
   "execution_count": null,
   "id": "18523162-5ca8-49e9-89c7-af9a168aff0f",
   "metadata": {},
   "outputs": [],
   "source": []
  }
 ],
 "metadata": {
  "kernelspec": {
   "display_name": "Python 3 (ipykernel)",
   "language": "python",
   "name": "python3"
  },
  "language_info": {
   "codemirror_mode": {
    "name": "ipython",
    "version": 3
   },
   "file_extension": ".py",
   "mimetype": "text/x-python",
   "name": "python",
   "nbconvert_exporter": "python",
   "pygments_lexer": "ipython3",
   "version": "3.10.12"
  }
 },
 "nbformat": 4,
 "nbformat_minor": 5
}
